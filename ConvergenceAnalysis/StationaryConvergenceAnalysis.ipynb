{
 "cells": [
  {
   "cell_type": "code",
   "execution_count": null,
   "id": "8c5053c2-03fc-46a6-ac38-bc90a5a0654e",
   "metadata": {},
   "outputs": [],
   "source": [
    "import os\n",
    "import numpy as np\n",
    "import matplotlib.pyplot as plt\n",
    "\n",
    "from scipy.io import loadmat"
   ]
  },
  {
   "cell_type": "markdown",
   "id": "55b33178-9d9b-4836-834c-b6496b1b78c2",
   "metadata": {},
   "source": [
    "# Recreate Convergence Analysis Plot"
   ]
  },
  {
   "cell_type": "code",
   "execution_count": null,
   "id": "eaf23945-5993-4d36-8023-2c8e39229d57",
   "metadata": {},
   "outputs": [],
   "source": [
    "# Parameters needed to load data \n",
    "res = [12.5, 25, 50, 100, 200, 400, 800]\n",
    "date = \"20180701_000000\"\n",
    "variables = [\"Hsig\", \"Tm02\", \"Dir\"]\n",
    "# Formatted variables: Note Hsig and Hs\n",
    "fmt_variables = [\"Hs\", \"Tm02\", \"Dir\"]\n",
    "# For plotting\n",
    "units = [\"m\", \"s\", \"°\"]\n",
    "ylabel = \"{} [{}]\"\n",
    "\n",
    "save = True"
   ]
  },
  {
   "cell_type": "code",
   "execution_count": null,
   "id": "3aef5c07-9049-4223-8777-9c7bff21cd35",
   "metadata": {},
   "outputs": [],
   "source": [
    "TITLESIZE = 15\n",
    "LABELSIZE = 15\n",
    "TICKLABELSIZE = 13\n",
    "\n",
    "fig, axs = plt.subplots(1, 3, figsize=(15, 5))\n",
    "\n",
    "for nvar, var in enumerate(variables):\n",
    "    # Load the data directly from the matlab files\n",
    "    key = var + \"_\" + date\n",
    "    results = np.empty(len(res))\n",
    "    for i, r in enumerate(res):\n",
    "        fn = \"StationaryResults/BaskCoast_ZoomBtz_{}m.mat\"\n",
    "        data = loadmat(fn.format(r))\n",
    "        \n",
    "        results[i] = np.nanmean(data[key])\n",
    "    \n",
    "    \n",
    "    axs[nvar].plot(res, results, \"-s\")\n",
    "    axs[nvar].grid(True, axis=\"both\", ls=\"--\")\n",
    "    axs[nvar].set_ylabel(ylabel.format(fmt_variables[nvar], units[nvar]),\n",
    "                         size=LABELSIZE)\n",
    "    axs[nvar].tick_params(axis='both', labelsize=TICKLABELSIZE)\n",
    "    axs[1].set_xlabel(\"Grid size step [m]\", size=LABELSIZE)\n",
    "    axs[1].set_title(\"Average over whole spatial domain for stationary run\", \n",
    "                     size=TITLESIZE)\n",
    "    \n",
    "plt.tight_layout()\n",
    "\n",
    "fdir = \"Plots\"\n",
    "fname = \"StationaryConvergenceAnalysis.png\"\n",
    "if save:\n",
    "    if not os.path.isdir(fdir):\n",
    "        os.makedirs(fdir)\n",
    "    plt.savefig(os.path.join(fdir, fname))\n",
    "    \n",
    "plt.show()"
   ]
  },
  {
   "cell_type": "code",
   "execution_count": null,
   "id": "0f5495c0-4ac9-4af8-b20a-6f444167c057",
   "metadata": {},
   "outputs": [],
   "source": []
  }
 ],
 "metadata": {
  "kernelspec": {
   "display_name": "Python 3 (ipykernel)",
   "language": "python",
   "name": "python3"
  },
  "language_info": {
   "codemirror_mode": {
    "name": "ipython",
    "version": 3
   },
   "file_extension": ".py",
   "mimetype": "text/x-python",
   "name": "python",
   "nbconvert_exporter": "python",
   "pygments_lexer": "ipython3",
   "version": "3.9.12"
  }
 },
 "nbformat": 4,
 "nbformat_minor": 5
}
