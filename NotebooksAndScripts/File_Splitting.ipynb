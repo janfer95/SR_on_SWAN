{
 "cells": [
  {
   "cell_type": "code",
   "execution_count": null,
   "id": "1c9d42ff-64f6-4e0e-b423-c506705f11b7",
   "metadata": {},
   "outputs": [],
   "source": [
    "import numpy as np\n",
    "import utilities as u\n",
    "\n",
    "from scipy.io import loadmat\n",
    "from datetime import datetime\n",
    "from pathlib import Path"
   ]
  },
  {
   "cell_type": "markdown",
   "id": "4310c214-920c-4701-9702-6b09a1e07427",
   "metadata": {},
   "source": [
    "# Split the SWAN matlab file\n",
    "This script allows to convert the SWAN matlab file into a series of csv files for each time step (and sea state variable)"
   ]
  },
  {
   "cell_type": "code",
   "execution_count": null,
   "id": "badefe36-e880-4e00-a4eb-56d65d5b2cba",
   "metadata": {},
   "outputs": [],
   "source": [
    "# Definition of file names and constants\n",
    "\n",
    "# Define the type of the time step (hrs, min) and the size of it\n",
    "time_step_type = \"hrs\" # could be min too\n",
    "time_step = 1          # can be something like 20 (for minutes)  \n",
    "\n",
    "# Define the data time span\n",
    "start_date = datetime(2018, 1, 1, 0, 0)\n",
    "end_date = datetime(2019, 12, 31, 23, 0)\n",
    "\n",
    "# Variable to extract (has to be the name given by SWAN)\n",
    "var = \"Hsig\"\n",
    "# How the variable name will appear in the output\n",
    "var_short = \"Hs\"\n",
    "\n",
    "# Path of the Matlab file to be split\n",
    "fn = \"../SWAN/out/BaskCoast_ZoomBtz.mat\"\n",
    "\n",
    "# Path of the output files, can be for reference (HR) or input (LR) files\n",
    "#dirout = f\"Data/LR/DS_RAW/Kernel_16/{var_short}/\"\n",
    "dirout = Path(f\"Data/HR/{var_short}\")\n",
    "\n",
    "# Prefix of the output files\n",
    "prefix = \"BaskCoast_{}_{}.npy\"\n",
    "\n",
    "# Check if output folder(s) exists, if not, create it/them\n",
    "if not dirout.exists():\n",
    "    dirout.mkdir(parents=True)"
   ]
  },
  {
   "cell_type": "markdown",
   "id": "651eb6e5-eead-4dc7-8226-86eb5a83a261",
   "metadata": {},
   "source": [
    "## Load whole file into RAM\n",
    "This is the easiest way if the whole data set fits in RAM"
   ]
  },
  {
   "cell_type": "code",
   "execution_count": null,
   "id": "32ca63df-66aa-4ba1-b656-819a7ab93c6c",
   "metadata": {},
   "outputs": [],
   "source": [
    "# Load Matlab File\n",
    "data = loadmat(fn)\n",
    "\n",
    "# Initialize a date generator to loop over the dates\n",
    "daterange = u.create_dategenerator(time_step, time_step_type)\n",
    "\n",
    "for i, date in enumerate(daterange(start_date, end_date)):\n",
    "    # Get the right key for the according day and hour\n",
    "    date = date.strftime('%Y%m%d_%H%M00')\n",
    "    file_key = var + \"_\" + date\n",
    "\n",
    "    # Access the array and save it in a file\n",
    "    fn_out = dirout / prefix.format(var_short.upper(), i+1)\n",
    "    np.save(fn_out, data[file_key][1:,1:])"
   ]
  },
  {
   "cell_type": "markdown",
   "id": "f682275d-98e7-4331-877b-325d0b2223a2",
   "metadata": {},
   "source": [
    "## Load each time step one by one\n",
    "This is only recommended if the data set does not fit in RAM.\n",
    "The code is not optimized and thus very slow."
   ]
  },
  {
   "cell_type": "code",
   "execution_count": null,
   "id": "7e7b518a-ac0d-46e5-8de9-57486c6a852a",
   "metadata": {},
   "outputs": [],
   "source": [
    "for i, date in enumerate(daterange(start_date, end_date)):\n",
    "    # Get the right key for according day and hour\n",
    "    date = date.strftime('%Y%m%d_%H%M00')\n",
    "    file_key = var + \"_\" + date\n",
    "\n",
    "    data = loadmat(fn, variable_names=(file_key))\n",
    "    \n",
    "    # Access the array and save it in a file\n",
    "    fn_out = dirout / prefix.format(var_short.upper(), i+1)\n",
    "    np.save(fn_out, data[file_key][1:,1:])"
   ]
  }
 ],
 "metadata": {
  "kernelspec": {
   "display_name": "Python 3 (ipykernel)",
   "language": "python",
   "name": "python3"
  },
  "language_info": {
   "codemirror_mode": {
    "name": "ipython",
    "version": 3
   },
   "file_extension": ".py",
   "mimetype": "text/x-python",
   "name": "python",
   "nbconvert_exporter": "python",
   "pygments_lexer": "ipython3",
   "version": "3.11.8"
  }
 },
 "nbformat": 4,
 "nbformat_minor": 5
}
